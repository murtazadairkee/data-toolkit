{
 "cells": [
  {
   "cell_type": "markdown",
   "id": "175d0a49",
   "metadata": {},
   "source": [
    "**What is NumPy, and why is it widely used in Python**"
   ]
  },
  {
   "cell_type": "code",
   "execution_count": null,
   "id": "bb6a4d12",
   "metadata": {},
   "outputs": [],
   "source": [
    "\"\"\"NumPy (Numerical Python) is a library for numerical computations. It provides support for arrays, matrices, and high-level mathematical functions. It's widely used because of its speed, efficiency, and support for vectorized operations.\"\"\""
   ]
  },
  {
   "cell_type": "markdown",
   "id": "b50488d3",
   "metadata": {},
   "source": [
    "**How does broadcasting work in NumPy**"
   ]
  },
  {
   "cell_type": "code",
   "execution_count": null,
   "id": "0f4646b2",
   "metadata": {},
   "outputs": [],
   "source": [
    "\"\"\"Broadcasting allows NumPy to perform arithmetic operations on arrays of different shapes by automatically expanding the smaller array to match the larger array's shape.\"\"\""
   ]
  },
  {
   "cell_type": "markdown",
   "id": "1280300c",
   "metadata": {},
   "source": [
    "**What is a Pandas DataFrame**"
   ]
  },
  {
   "cell_type": "code",
   "execution_count": null,
   "id": "dc9acca1",
   "metadata": {},
   "outputs": [],
   "source": [
    "\"\"\"A Pandas DataFrame is a 2-dimensional labeled data structure with columns of potentially different types. It's similar to a spreadsheet or SQL table.\"\"\""
   ]
  },
  {
   "cell_type": "markdown",
   "id": "bd165397",
   "metadata": {},
   "source": [
    "**Explain the use of the groupby() method in Pandas**"
   ]
  },
  {
   "cell_type": "code",
   "execution_count": null,
   "id": "f8635bec",
   "metadata": {},
   "outputs": [],
   "source": [
    "\"\"\"The groupby() method in Pandas is used to split data into groups based on some criteria, apply a function to each group, and combine the results.\"\"\""
   ]
  },
  {
   "cell_type": "markdown",
   "id": "545470a6",
   "metadata": {},
   "source": [
    "**Why is Seaborn preferred for statistical visualizations**"
   ]
  },
  {
   "cell_type": "code",
   "execution_count": null,
   "id": "2c16cdf5",
   "metadata": {},
   "outputs": [],
   "source": [
    "\"\"\"Seaborn simplifies the process of creating attractive and informative statistical graphics, and it integrates well with Pandas DataFrames.\"\"\""
   ]
  },
  {
   "cell_type": "markdown",
   "id": "4fbff9f3",
   "metadata": {},
   "source": [
    "**What are the differences between NumPy arrays and Python lists**"
   ]
  },
  {
   "cell_type": "code",
   "execution_count": null,
   "id": "e52fa4ed",
   "metadata": {},
   "outputs": [],
   "source": [
    "\"\"\"NumPy arrays are more compact, faster, and support vectorized operations, whereas Python lists are more flexible but slower and less efficient for numerical computations.\"\"\""
   ]
  },
  {
   "cell_type": "markdown",
   "id": "e6aa98ad",
   "metadata": {},
   "source": [
    "**What is a heatmap, and when should it be used**"
   ]
  },
  {
   "cell_type": "code",
   "execution_count": null,
   "id": "c8b61067",
   "metadata": {},
   "outputs": [],
   "source": [
    "\"\"\"A heatmap is a graphical representation of data where values are represented with color. It's useful for showing correlation matrices or high-density data.\"\"\""
   ]
  },
  {
   "cell_type": "markdown",
   "id": "c426afdc",
   "metadata": {},
   "source": [
    "**What does the term “vectorized operation” mean in NumPy**"
   ]
  },
  {
   "cell_type": "code",
   "execution_count": null,
   "id": "23a01ed6",
   "metadata": {},
   "outputs": [],
   "source": [
    "\"\"\"Vectorized operations refer to operations applied element-wise to arrays, without explicit loops, making them faster and more efficient.\"\"\""
   ]
  },
  {
   "cell_type": "markdown",
   "id": "8ca6ef6d",
   "metadata": {},
   "source": [
    "**How does Matplotlib differ from Plotly**"
   ]
  },
  {
   "cell_type": "code",
   "execution_count": null,
   "id": "64ecdca3",
   "metadata": {},
   "outputs": [],
   "source": [
    "\"\"\"Matplotlib is a static plotting library, while Plotly is interactive and web-based. Plotly offers more modern visuals and interactivity.\"\"\""
   ]
  },
  {
   "cell_type": "markdown",
   "id": "cadf73f0",
   "metadata": {},
   "source": [
    "**What is the significance of hierarchical indexing in Pandas**"
   ]
  },
  {
   "cell_type": "code",
   "execution_count": null,
   "id": "0e74e316",
   "metadata": {},
   "outputs": [],
   "source": [
    "\"\"\"Hierarchical indexing allows multiple levels of indexing on a single axis, enabling more complex data representation and selection.\"\"\""
   ]
  },
  {
   "cell_type": "markdown",
   "id": "eff01574",
   "metadata": {},
   "source": [
    "**What is the role of Seaborn’s pairplot() function**"
   ]
  },
  {
   "cell_type": "code",
   "execution_count": null,
   "id": "97acaeaf",
   "metadata": {},
   "outputs": [],
   "source": [
    "\"\"\"Seaborn's pairplot() visualizes pairwise relationships in a dataset, making it easier to detect patterns and correlations.\"\"\""
   ]
  },
  {
   "cell_type": "markdown",
   "id": "1721f97e",
   "metadata": {},
   "source": [
    "**What is the purpose of the describe() function in Pandas**"
   ]
  },
  {
   "cell_type": "code",
   "execution_count": null,
   "id": "3c90bb18",
   "metadata": {},
   "outputs": [],
   "source": [
    "\"\"\"The describe() function provides summary statistics (mean, std, min, max, etc.) for numerical columns in a DataFrame.\"\"\""
   ]
  },
  {
   "cell_type": "markdown",
   "id": "367a194e",
   "metadata": {},
   "source": [
    "**Why is handling missing data important in Pandas**"
   ]
  },
  {
   "cell_type": "code",
   "execution_count": null,
   "id": "ac85e7a3",
   "metadata": {},
   "outputs": [],
   "source": [
    "\"\"\"Handling missing data is important to ensure the integrity and accuracy of data analysis and prevent errors during computations.\"\"\""
   ]
  },
  {
   "cell_type": "markdown",
   "id": "590a8613",
   "metadata": {},
   "source": [
    "**What are the benefits of using Plotly for data visualization**"
   ]
  },
  {
   "cell_type": "code",
   "execution_count": null,
   "id": "9f432a12",
   "metadata": {},
   "outputs": [],
   "source": [
    "\"\"\"Plotly offers interactive, high-quality plots that can be embedded in web applications. It supports complex visualizations and dashboards.\"\"\""
   ]
  },
  {
   "cell_type": "markdown",
   "id": "b063dad1",
   "metadata": {},
   "source": [
    "**How does NumPy handle multidimensional arrays**"
   ]
  },
  {
   "cell_type": "code",
   "execution_count": null,
   "id": "816bf3ac",
   "metadata": {},
   "outputs": [],
   "source": [
    "\"\"\"NumPy uses the ndarray object to handle multidimensional arrays efficiently, supporting operations along any axis.\"\"\""
   ]
  },
  {
   "cell_type": "markdown",
   "id": "2403a02a",
   "metadata": {},
   "source": [
    "**What is the role of Bokeh in data visualization**"
   ]
  },
  {
   "cell_type": "code",
   "execution_count": null,
   "id": "f89482a0",
   "metadata": {},
   "outputs": [],
   "source": [
    "\"\"\"Bokeh is a Python interactive visualization library that targets modern web browsers for presentation, allowing easy creation of dashboards and web apps.\"\"\""
   ]
  },
  {
   "cell_type": "markdown",
   "id": "b1c089e5",
   "metadata": {},
   "source": [
    "**Explain the difference between apply() and map() in Pandas**"
   ]
  },
  {
   "cell_type": "code",
   "execution_count": null,
   "id": "29162d26",
   "metadata": {},
   "outputs": [],
   "source": [
    "\"\"\"apply() is used to apply a function along an axis of the DataFrame, while map() is used for element-wise operations on a Series.\"\"\""
   ]
  },
  {
   "cell_type": "markdown",
   "id": "ab8e05af",
   "metadata": {},
   "source": [
    "**What are some advanced features of NumPy**"
   ]
  },
  {
   "cell_type": "code",
   "execution_count": null,
   "id": "aa1c9913",
   "metadata": {},
   "outputs": [],
   "source": [
    "\"\"\"Advanced features include broadcasting, linear algebra operations, random number generation, Fourier transforms, and masked arrays.\"\"\""
   ]
  },
  {
   "cell_type": "markdown",
   "id": "ebebc2da",
   "metadata": {},
   "source": [
    "**How does Pandas simplify time series analysis**"
   ]
  },
  {
   "cell_type": "code",
   "execution_count": null,
   "id": "ab0c5039",
   "metadata": {},
   "outputs": [],
   "source": [
    "\"\"\"Pandas provides datetime indexing, resampling, shifting, and frequency conversion, making time series manipulation intuitive and efficient.\"\"\""
   ]
  },
  {
   "cell_type": "markdown",
   "id": "1b527163",
   "metadata": {},
   "source": [
    "**What is the role of a pivot table in Pandas**"
   ]
  },
  {
   "cell_type": "code",
   "execution_count": null,
   "id": "4642a7f6",
   "metadata": {},
   "outputs": [],
   "source": [
    "\"\"\"Pivot tables summarize data by reshaping it, allowing easy computation of statistics like sums, averages, and counts grouped by categories.\"\"\""
   ]
  },
  {
   "cell_type": "markdown",
   "id": "6c508251",
   "metadata": {},
   "source": [
    "**Why is NumPy’s array slicing faster than Python’s list slicing**"
   ]
  },
  {
   "cell_type": "code",
   "execution_count": null,
   "id": "040cea6e",
   "metadata": {},
   "outputs": [],
   "source": [
    "\"\"\"NumPy uses a single data type and contiguous memory allocation, allowing slicing to create views without copying data, unlike Python lists.\"\"\""
   ]
  },
  {
   "cell_type": "markdown",
   "id": "19a18bb6",
   "metadata": {},
   "source": [
    "**What are some common use cases for Seaborn?**"
   ]
  },
  {
   "cell_type": "code",
   "execution_count": null,
   "id": "766a7b4e",
   "metadata": {},
   "outputs": [],
   "source": [
    "\"\"\"Seaborn is commonly used for visualizing distributions, categorical data, pairwise relationships, statistical estimation, and heatmaps.\"\"\""
   ]
  }
 ],
 "metadata": {},
 "nbformat": 4,
 "nbformat_minor": 5
}
