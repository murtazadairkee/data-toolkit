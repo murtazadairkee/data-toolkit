{
 "cells": [
  {
   "cell_type": "markdown",
   "id": "57cf1f8c",
   "metadata": {},
   "source": [
    "**How do you create a 2D NumPy array and calculate the sum of each row**"
   ]
  },
  {
   "cell_type": "code",
   "execution_count": null,
   "id": "6c119e72",
   "metadata": {},
   "outputs": [],
   "source": [
    "import numpy as np\n",
    "arr = np.array([[1, 2, 3], [4, 5, 6]])\n",
    "row_sums = np.sum(arr, axis=1)\n",
    "print(row_sums)"
   ]
  },
  {
   "cell_type": "markdown",
   "id": "95f7b9d4",
   "metadata": {},
   "source": [
    "**Write a Pandas script to find the mean of a specific column in a DataFrame**"
   ]
  },
  {
   "cell_type": "code",
   "execution_count": null,
   "id": "072faaaa",
   "metadata": {},
   "outputs": [],
   "source": [
    "import pandas as pd\n",
    "df = pd.DataFrame({\"Scores\": [80, 90, 75, 88]})\n",
    "print(df[\"Scores\"].mean())"
   ]
  },
  {
   "cell_type": "markdown",
   "id": "05880d50",
   "metadata": {},
   "source": [
    "**Create a scatter plot using Matplotlib**"
   ]
  },
  {
   "cell_type": "code",
   "execution_count": null,
   "id": "6c037cd3",
   "metadata": {},
   "outputs": [],
   "source": [
    "import matplotlib.pyplot as plt\n",
    "x = [1, 2, 3, 4]\n",
    "y = [10, 20, 25, 30]\n",
    "plt.scatter(x, y)\n",
    "plt.title(\"Scatter Plot\")\n",
    "plt.xlabel(\"X\")\n",
    "plt.ylabel(\"Y\")\n",
    "plt.show()"
   ]
  },
  {
   "cell_type": "markdown",
   "id": "02b58310",
   "metadata": {},
   "source": [
    "**How do you calculate the correlation matrix using Seaborn and visualize it with a heatmap**"
   ]
  },
  {
   "cell_type": "code",
   "execution_count": null,
   "id": "99652bc7",
   "metadata": {},
   "outputs": [],
   "source": [
    "import seaborn as sns\n",
    "import pandas as pd\n",
    "import matplotlib.pyplot as plt\n",
    "df = pd.DataFrame({\"A\": [1, 2, 3], \"B\": [4, 5, 6], \"C\": [7, 8, 9]})\n",
    "corr = df.corr()\n",
    "sns.heatmap(corr, annot=True)\n",
    "plt.show()"
   ]
  },
  {
   "cell_type": "markdown",
   "id": "94f20049",
   "metadata": {},
   "source": [
    "**Generate a bar plot using Plotly**"
   ]
  },
  {
   "cell_type": "code",
   "execution_count": null,
   "id": "3a84b912",
   "metadata": {},
   "outputs": [],
   "source": [
    "import plotly.express as px\n",
    "data = {\"Fruit\": [\"Apple\", \"Banana\", \"Cherry\"], \"Quantity\": [10, 15, 7]}\n",
    "df = pd.DataFrame(data)\n",
    "fig = px.bar(df, x=\"Fruit\", y=\"Quantity\")\n",
    "fig.show()"
   ]
  },
  {
   "cell_type": "markdown",
   "id": "8b38cd10",
   "metadata": {},
   "source": [
    "**Create a DataFrame and add a new column based on an existing column**"
   ]
  },
  {
   "cell_type": "code",
   "execution_count": null,
   "id": "e34ad781",
   "metadata": {},
   "outputs": [],
   "source": [
    "df = pd.DataFrame({\"A\": [1, 2, 3]})\n",
    "df[\"B\"] = df[\"A\"] * 2\n",
    "print(df)"
   ]
  },
  {
   "cell_type": "markdown",
   "id": "7df0291f",
   "metadata": {},
   "source": [
    "**Write a program to perform element-wise multiplication of two NumPy arrays**"
   ]
  },
  {
   "cell_type": "code",
   "execution_count": null,
   "id": "94ebbed1",
   "metadata": {},
   "outputs": [],
   "source": [
    "import numpy as np\n",
    "a = np.array([1, 2, 3])\n",
    "b = np.array([4, 5, 6])\n",
    "result = a * b\n",
    "print(result)"
   ]
  },
  {
   "cell_type": "markdown",
   "id": "21ea4c38",
   "metadata": {},
   "source": [
    "**Create a line plot with multiple lines using Matplotlib**"
   ]
  },
  {
   "cell_type": "code",
   "execution_count": null,
   "id": "ec510ba2",
   "metadata": {},
   "outputs": [],
   "source": [
    "import matplotlib.pyplot as plt\n",
    "x = [1, 2, 3, 4]\n",
    "y1 = [1, 4, 9, 16]\n",
    "y2 = [2, 3, 4, 5]\n",
    "plt.plot(x, y1, label='y1')\n",
    "plt.plot(x, y2, label='y2')\n",
    "plt.legend()\n",
    "plt.title(\"Multiple Lines\")\n",
    "plt.show()"
   ]
  },
  {
   "cell_type": "markdown",
   "id": "56ba650c",
   "metadata": {},
   "source": [
    "**Generate a Pandas DataFrame and filter rows where a column value is greater than a threshold**"
   ]
  },
  {
   "cell_type": "code",
   "execution_count": null,
   "id": "90065995",
   "metadata": {},
   "outputs": [],
   "source": [
    "df = pd.DataFrame({\"Age\": [25, 30, 45, 22]})\n",
    "filtered_df = df[df[\"Age\"] > 30]\n",
    "print(filtered_df)"
   ]
  },
  {
   "cell_type": "markdown",
   "id": "770777f5",
   "metadata": {},
   "source": [
    "**Create a histogram using Seaborn to visualize a distribution**"
   ]
  },
  {
   "cell_type": "code",
   "execution_count": null,
   "id": "7a944568",
   "metadata": {},
   "outputs": [],
   "source": [
    "import seaborn as sns\n",
    "import matplotlib.pyplot as plt\n",
    "data = [1, 2, 2, 3, 3, 3, 4, 4, 5]\n",
    "sns.histplot(data, kde=True)\n",
    "plt.show()"
   ]
  },
  {
   "cell_type": "markdown",
   "id": "626c5572",
   "metadata": {},
   "source": [
    "**Perform matrix multiplication using NumPy**"
   ]
  },
  {
   "cell_type": "code",
   "execution_count": null,
   "id": "1ecb64d8",
   "metadata": {},
   "outputs": [],
   "source": [
    "import numpy as np\n",
    "a = np.array([[1, 2], [3, 4]])\n",
    "b = np.array([[5, 6], [7, 8]])\n",
    "result = np.dot(a, b)\n",
    "print(result)"
   ]
  },
  {
   "cell_type": "markdown",
   "id": "bd1f5375",
   "metadata": {},
   "source": [
    "**Use Pandas to load a CSV file and display its first 5 rows**"
   ]
  },
  {
   "cell_type": "code",
   "execution_count": null,
   "id": "c296c128",
   "metadata": {},
   "outputs": [],
   "source": [
    "# Make sure the CSV file exists in the same directory\n",
    "df = pd.read_csv(\"sample.csv\")\n",
    "print(df.head())"
   ]
  },
  {
   "cell_type": "markdown",
   "id": "900fef2e",
   "metadata": {},
   "source": [
    "**Create a 3D scatter plot using Plotly**"
   ]
  },
  {
   "cell_type": "code",
   "execution_count": null,
   "id": "53082d8a",
   "metadata": {},
   "outputs": [],
   "source": [
    "import plotly.express as px\n",
    "import pandas as pd\n",
    "df = pd.DataFrame({\"x\": [1, 2, 3], \"y\": [4, 5, 6], \"z\": [7, 8, 9]})\n",
    "fig = px.scatter_3d(df, x=\"x\", y=\"y\", z=\"z\")\n",
    "fig.show()"
   ]
  }
 ],
 "metadata": {},
 "nbformat": 4,
 "nbformat_minor": 5
}
